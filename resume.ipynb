{
 "cells": [
  {
   "cell_type": "code",
   "execution_count": 2,
   "metadata": {},
   "outputs": [],
   "source": [
    "import numpy as np # linear algebra\n",
    "import pandas as pd # data processing, CSV file I/O (e.g. pd.read_csv"
   ]
  },
  {
   "cell_type": "code",
   "execution_count": 3,
   "metadata": {},
   "outputs": [
    {
     "name": "stdout",
     "output_type": "stream",
     "text": [
      "✅ Project structure created successfully!\n"
     ]
    }
   ],
   "source": [
    "import os\n",
    "\n",
    "folders = [\n",
    "    \"resume_screening/backend\",\n",
    "    \"resume_screening/data/sample_resumes\",\n",
    "    \"resume_screening/models\"\n",
    "]\n",
    "\n",
    "files = {\n",
    "    \"resume_screening/backend/main.py\": \"# FastAPI main file\\n\",\n",
    "    \"resume_screening/backend/models.py\": \"# Database models\\n\",\n",
    "    \"resume_screening/backend/resume_parser.py\": \"# Extract text from resumes\\n\",\n",
    "    \"resume_screening/backend/ranking.py\": \"# Ranking logic\\n\",\n",
    "    \"resume_screening/backend/database.py\": \"# Database connection\\n\",\n",
    "    \"resume_screening/backend/requirements.txt\": \"# List of dependencies\\n\",\n",
    "    \"resume_screening/README.md\": \"# Project documentation\\n\"\n",
    "}\n",
    "\n",
    "# Create folders\n",
    "for folder in folders:\n",
    "    os.makedirs(folder, exist_ok=True)\n",
    "\n",
    "# Create files with initial comments\n",
    "for file_path, content in files.items():\n",
    "    with open(file_path, \"w\") as file:\n",
    "        file.write(content)\n",
    "\n",
    "print(\"✅ Project structure created successfully!\")\n"
   ]
  },
  {
   "cell_type": "code",
   "execution_count": null,
   "metadata": {},
   "outputs": [],
   "source": []
  }
 ],
 "metadata": {
  "kernelspec": {
   "display_name": "Python 3",
   "language": "python",
   "name": "python3"
  },
  "language_info": {
   "codemirror_mode": {
    "name": "ipython",
    "version": 3
   },
   "file_extension": ".py",
   "mimetype": "text/x-python",
   "name": "python",
   "nbconvert_exporter": "python",
   "pygments_lexer": "ipython3",
   "version": "3.10.11"
  }
 },
 "nbformat": 4,
 "nbformat_minor": 2
}
